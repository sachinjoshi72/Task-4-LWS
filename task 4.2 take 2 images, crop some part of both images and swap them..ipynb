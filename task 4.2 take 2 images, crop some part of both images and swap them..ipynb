{
 "cells": [
  {
   "cell_type": "code",
   "execution_count": 104,
   "id": "d37eccb8",
   "metadata": {},
   "outputs": [],
   "source": [
    "import cv2\n"
   ]
  },
  {
   "cell_type": "code",
   "execution_count": 105,
   "id": "609a197a",
   "metadata": {},
   "outputs": [],
   "source": [
    "# Read wiz Image\n",
    "wiz = cv2.imread('wiz.png')\n",
    "\n",
    "# Display Wiz image\n",
    "cv2.imshow(\"Wiz\", wiz)\n",
    "cv2.waitKey()\n",
    "cv2.destroyAllWindows()"
   ]
  },
  {
   "cell_type": "code",
   "execution_count": 106,
   "id": "84b1c5be",
   "metadata": {},
   "outputs": [],
   "source": [
    "# Cordinates of Wiz Face\n",
    "dx1 = 635\n",
    "dy1 = 16\n",
    "dx2 = 933\n",
    "dy2 = 374\n",
    "\n",
    "# Crop Wiz face\n",
    "wFace = wiz[dy1:dy2, dx1:dx2]\n",
    "\n",
    "# Display face\n",
    "cv2.imshow(\"Wizface\", wFace)\n",
    "cv2.waitKey()\n",
    "cv2.destroyAllWindows()"
   ]
  },
  {
   "cell_type": "code",
   "execution_count": 107,
   "id": "11359ca9",
   "metadata": {},
   "outputs": [],
   "source": [
    "# Read snoopy Image\n",
    "snoopy = cv2.imread('snoopy.jpg')\n",
    "\n",
    "# Diplay snoopy Image\n",
    "cv2.imshow(\"snoopy\", snoopy)\n",
    "cv2.waitKey()\n",
    "cv2.destroyAllWindows()"
   ]
  },
  {
   "cell_type": "code",
   "execution_count": 108,
   "id": "ff3e3a12",
   "metadata": {},
   "outputs": [],
   "source": [
    "# Cordinates of Snoopy's Face\n",
    "cx1 = 635\n",
    "cy1 = 16\n",
    "cx2 = 933\n",
    "cy2 = 374\n",
    "\n",
    "# Crop Snoopy's face\n",
    "sFace = snoopy[cy1:cy2, cx1:cx2]\n",
    "\n",
    "# Display face\n",
    "cv2.imshow(\"SnoopyFace\", sFace)\n",
    "cv2.waitKey()\n",
    "cv2.destroyAllWindows()"
   ]
  },
  {
   "cell_type": "code",
   "execution_count": 111,
   "id": "5c343b68",
   "metadata": {},
   "outputs": [
    {
     "data": {
      "text/plain": [
       "(1080, 1632, 3)"
      ]
     },
     "execution_count": 111,
     "metadata": {},
     "output_type": "execute_result"
    }
   ],
   "source": [
    "wiz.shape"
   ]
  },
  {
   "cell_type": "code",
   "execution_count": 112,
   "id": "c55c059c",
   "metadata": {},
   "outputs": [
    {
     "data": {
      "text/plain": [
       "(1024, 1548, 3)"
      ]
     },
     "execution_count": 112,
     "metadata": {},
     "output_type": "execute_result"
    }
   ],
   "source": [
    "snoopy.shape"
   ]
  },
  {
   "cell_type": "code",
   "execution_count": 113,
   "id": "b1a5fdf1",
   "metadata": {},
   "outputs": [],
   "source": [
    "\n",
    "# Swap the face of Wiz with snoopy\n",
    "wiz = cv2.imread('wiz.png')\n",
    "wiz[dy1:dy2, dx1:dx2] = sFace\n",
    "\n",
    "# Display swapped image\n",
    "cv2.imshow(\"WizFaceSwapped\", wiz)\n",
    "cv2.waitKey()\n",
    "cv2.destroyAllWindows()\n"
   ]
  },
  {
   "cell_type": "code",
   "execution_count": 115,
   "id": "0d74d7cb",
   "metadata": {},
   "outputs": [],
   "source": [
    "\n",
    "# Swap the face of Snoopy with Wiz\n",
    "snoopy = cv2.imread('snoopy.jpg')\n",
    "snoopy[cy1:cy2, cx1:cx2] = wFace \n",
    "\n",
    "# Display Image\n",
    "cv2.imshow(\"SnoopyFaceSwapped\", snoopy)\n",
    "cv2.waitKey()\n",
    "cv2.destroyAllWindows()\n"
   ]
  },
  {
   "cell_type": "code",
   "execution_count": null,
   "id": "88048faa",
   "metadata": {},
   "outputs": [],
   "source": []
  }
 ],
 "metadata": {
  "kernelspec": {
   "display_name": "Python 3",
   "language": "python",
   "name": "python3"
  },
  "language_info": {
   "codemirror_mode": {
    "name": "ipython",
    "version": 3
   },
   "file_extension": ".py",
   "mimetype": "text/x-python",
   "name": "python",
   "nbconvert_exporter": "python",
   "pygments_lexer": "ipython3",
   "version": "3.8.8"
  }
 },
 "nbformat": 4,
 "nbformat_minor": 5
}
