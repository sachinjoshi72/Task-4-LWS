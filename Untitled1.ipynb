{
 "cells": [
  {
   "cell_type": "code",
   "execution_count": 14,
   "id": "3e452a9b",
   "metadata": {},
   "outputs": [],
   "source": [
    "#collage of images\n",
    "import cv2"
   ]
  },
  {
   "cell_type": "code",
   "execution_count": 22,
   "id": "1956667b",
   "metadata": {},
   "outputs": [],
   "source": [
    "# Cordinates of downeyjr Face\n",
    "dx1 = 0\n",
    "dy1 = 0\n",
    "dx2 = 289\n",
    "dy2 = 455\n",
    "\n",
    "# Read Downeyjr Image\n",
    "downeyjr = cv2.imread('downeyjr.jpg')\n",
    "\n",
    "# Crop Downeyjr face\n",
    "dFace = downeyjr[dy1:dy2, dx1:dx2]\n",
    "\n",
    "# Display face\n",
    "cv2.imshow(\"downeyjr\", dFace)\n",
    "cv2.waitKey()\n",
    "cv2.destroyAllWindows()"
   ]
  },
  {
   "cell_type": "code",
   "execution_count": 23,
   "id": "b98bbbc6",
   "metadata": {},
   "outputs": [],
   "source": [
    "# Cordinates of ironman Face\n",
    "cx1 = 300\n",
    "cy1 = 0\n",
    "cx2 = 608\n",
    "cy2 = 455\n",
    "\n",
    "# Read IronMan Image\n",
    "ironman = cv2.imread('Ironman.jpg')\n",
    "\n",
    "# Crop IronMan  face\n",
    "cFace = ironman[cy1:cy2, cx1:cx2]\n",
    "\n",
    "# Display face\n",
    "cv2.imshow(\"IronMan\", cFace)\n",
    "cv2.waitKey()\n",
    "cv2.destroyAllWindows()"
   ]
  },
  {
   "cell_type": "code",
   "execution_count": 24,
   "id": "aa4fe287",
   "metadata": {},
   "outputs": [],
   "source": [
    "# Create collage\n",
    "import numpy as np \n",
    "collagedb = np.hstack((dFace  ,cFace ))\n",
    "\n",
    "# Display image\n",
    "cv2.imshow(\"Collage\", collagedb)\n",
    "cv2.waitKey()\n",
    "cv2.destroyAllWindows()"
   ]
  },
  {
   "cell_type": "code",
   "execution_count": null,
   "id": "0df494f5",
   "metadata": {},
   "outputs": [],
   "source": []
  },
  {
   "cell_type": "code",
   "execution_count": null,
   "id": "293e28b2",
   "metadata": {},
   "outputs": [],
   "source": []
  }
 ],
 "metadata": {
  "kernelspec": {
   "display_name": "Python 3",
   "language": "python",
   "name": "python3"
  },
  "language_info": {
   "codemirror_mode": {
    "name": "ipython",
    "version": 3
   },
   "file_extension": ".py",
   "mimetype": "text/x-python",
   "name": "python",
   "nbconvert_exporter": "python",
   "pygments_lexer": "ipython3",
   "version": "3.8.8"
  }
 },
 "nbformat": 4,
 "nbformat_minor": 5
}
